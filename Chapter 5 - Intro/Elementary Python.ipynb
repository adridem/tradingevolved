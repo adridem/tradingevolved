{
 "cells": [
  {
   "cell_type": "code",
   "execution_count": 6,
   "metadata": {
    "collapsed": false
   },
   "outputs": [
    {
     "name": "stdout",
     "output_type": "stream",
     "text": [
      "Papa John's Pizza\n"
     ]
    }
   ],
   "source": [
    "stocks = {\n",
    "        \"CAKE\":\"Cheesecake Factory\",\n",
    "        \"PZZA\":\"Papa John's Pizza\",\n",
    "        \"FUN\":\"Cedar Fair\",\n",
    "        \"CAR\": \"Avis Budget Group\",\n",
    "        }\n",
    "\n",
    "print(stocks[\"PZZA\"])"
   ]
  },
  {
   "cell_type": "code",
   "execution_count": 7,
   "metadata": {
    "collapsed": false
   },
   "outputs": [
    {
     "name": "stdout",
     "output_type": "stream",
     "text": [
      "Cheesecake Factory has ticker CAKE\n",
      "Papa John's Pizza has ticker PZZA\n",
      "Cedar Fair has ticker FUN\n",
      "Avis Budget Group has ticker CAR\n"
     ]
    }
   ],
   "source": [
    "for ticker, name in stocks.items():\n",
    "    print(\"{} has ticker {}\".format(name, ticker))\n"
   ]
  },
  {
   "cell_type": "code",
   "execution_count": 8,
   "metadata": {
    "collapsed": false
   },
   "outputs": [
    {
     "name": "stdout",
     "output_type": "stream",
     "text": [
      "1 is below ten.\n",
      "7 is below ten.\n",
      "The number three!\n",
      "6 is below ten.\n",
      "Number 12 is above ten.\n",
      "9 is below ten.\n",
      "Number 18 is above ten.\n"
     ]
    }
   ],
   "source": [
    "bunch_of_numbers = [\n",
    "        1, 7, 3, 6, 12, 9, 18\n",
    "        ]\n",
    "\n",
    "for number in bunch_of_numbers:\n",
    "    if number == 3:\n",
    "        print(\"The number three!\")\n",
    "    elif number < 10:\n",
    "        print(\"{} is below ten.\".format(number))\n",
    "    else:\n",
    "        print(\"Number {} is above ten.\".format(number))\n"
   ]
  },
  {
   "cell_type": "code",
   "execution_count": 9,
   "metadata": {
    "collapsed": false
   },
   "outputs": [
    {
     "name": "stdout",
     "output_type": "stream",
     "text": [
      "1 is below ten.\n",
      "7 is below ten.\n",
      "The number three!\n",
      "6 is below ten.\n",
      "Number 12 is above ten.\n",
      "9 is below ten.\n",
      "Number 18 is above ten.\n"
     ]
    }
   ],
   "source": [
    "# There's a deliberate error in this cell\n",
    "bunch_of_numbers = [\n",
    "        1, 7, 3, 6, 12, 9, 18\n",
    "        ]\n",
    "\n",
    "for number in bunch_of_numbers:\n",
    "    if number == 3:\n",
    "        print(\"The number three!\")\n",
    "    elif number < 10:\n",
    "        print(\"{} is below ten.\".format(number))\n",
    "    else:\n",
    "        print(\"Number {} is above ten.\".format(number))\n"
   ]
  },
  {
   "cell_type": "code",
   "execution_count": 10,
   "metadata": {
    "collapsed": false
   },
   "outputs": [
    {
     "name": "stdout",
     "output_type": "stream",
     "text": [
      "1 is below ten.\n",
      "7 is below ten.\n",
      "The number three!\n",
      "6 is below ten.\n",
      "Number 12 is above ten.\n",
      "9 is below ten.\n",
      "Number 18 is above ten.\n"
     ]
    }
   ],
   "source": [
    "# There's a deliberate error in this cell\n",
    "bunch_of_numbers = [\n",
    "        1, 7, 3, 6, 12, 9, 18\n",
    "        ]\n",
    "\n",
    "for number in bunch_of_numbers:\n",
    "    if number == 3:\n",
    "        print(\"The number three!\")\n",
    "    elif number < 10:\n",
    "        print(\"{} is below ten.\".format(number))\n",
    "    else:\n",
    "        print(\"Number {} is above ten.\".format(number))\n"
   ]
  }
 ],
 "metadata": {
  "kernelspec": {
   "display_name": "Python 3",
   "language": "python",
   "name": "python3"
  },
  "language_info": {
   "codemirror_mode": {
    "name": "ipython",
    "version": 3
   },
   "file_extension": ".py",
   "mimetype": "text/x-python",
   "name": "python",
   "nbconvert_exporter": "python",
   "pygments_lexer": "ipython3",
   "version": "3.10.4"
  },
  "vscode": {
   "interpreter": {
    "hash": "3ad933181bd8a04b432d3370b9dc3b0662ad032c4dfaa4e4f1596c548f763858"
   }
  }
 },
 "nbformat": 4,
 "nbformat_minor": 2
}
